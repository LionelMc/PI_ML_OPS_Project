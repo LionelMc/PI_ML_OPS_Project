{
 "cells": [
  {
   "attachments": {},
   "cell_type": "markdown",
   "metadata": {},
   "source": [
    "# PROYECTO INDIVIDUAL Nº1 (MLOps)"
   ]
  },
  {
   "attachments": {},
   "cell_type": "markdown",
   "metadata": {},
   "source": [
    "## Importar librerías"
   ]
  },
  {
   "cell_type": "code",
   "execution_count": 1,
   "metadata": {},
   "outputs": [],
   "source": [
    "import pandas as pd\n",
    "import ast"
   ]
  },
  {
   "attachments": {},
   "cell_type": "markdown",
   "metadata": {},
   "source": [
    "## Carga de datos"
   ]
  },
  {
   "cell_type": "code",
   "execution_count": 2,
   "metadata": {},
   "outputs": [],
   "source": [
    "# Cargar los datos del archivo CSV\n",
    "#df = pd.read_csv('D:\\Soy_HENRY\\PI_ML_OPS\\Fuente_datos\\movies_dataset.csv', low_memory=False)\n",
    "df = pd.read_csv('Fuente_datos/movies_dataset.csv', low_memory=False)\n",
    "#df.info()"
   ]
  },
  {
   "attachments": {},
   "cell_type": "markdown",
   "metadata": {},
   "source": [
    "## Transformaciones"
   ]
  },
  {
   "attachments": {},
   "cell_type": "markdown",
   "metadata": {},
   "source": [
    "### - Desanidar columnas"
   ]
  },
  {
   "cell_type": "code",
   "execution_count": 3,
   "metadata": {},
   "outputs": [],
   "source": [
    "# Desanidar la columna belongs_to_collection\n",
    "def extract_belongs(x):\n",
    "    if pd.notnull(x):\n",
    "        try:\n",
    "            data = ast.literal_eval(x)\n",
    "            if isinstance(data, dict):\n",
    "                return [data['name']]\n",
    "            elif isinstance(data, list):\n",
    "                return [i['name'] for i in data]\n",
    "        except (ValueError, TypeError):\n",
    "            pass\n",
    "    return []\n",
    "\n",
    "# Desanidar la columna genres\n",
    "def extract_genres(x):\n",
    "    try:\n",
    "        data = ast.literal_eval(x)\n",
    "        return [i['name'] for i in data]\n",
    "    except (ValueError, TypeError):\n",
    "        return []\n",
    "\n",
    "# Desanidar la columna production_companies, production_countries y spoken_languages\n",
    "def extract_list_values(x):\n",
    "    try:\n",
    "        data = ast.literal_eval(x)\n",
    "        return [i['name'] for i in data]\n",
    "    except (ValueError, TypeError):\n",
    "        return []\n",
    "\n",
    "# Aplicar las funciones de extracción a las columnas correspondientes\n",
    "df['belongs_to_collection'] = df['belongs_to_collection'].apply(extract_belongs)\n",
    "df['genres'] = df['genres'].apply(extract_genres)\n",
    "df['production_companies'] = df['production_companies'].apply(extract_list_values)\n",
    "df['production_countries'] = df['production_countries'].apply(extract_list_values)\n",
    "df['spoken_languages'] = df['spoken_languages'].apply(extract_list_values)\n",
    "\n",
    "# Mostrar el resultado\n",
    "#df.head(2)"
   ]
  },
  {
   "attachments": {},
   "cell_type": "markdown",
   "metadata": {},
   "source": [
    "### - Los valores nulos: 'revenue' y 'budget', deben ser rellenados por el número 0."
   ]
  },
  {
   "cell_type": "code",
   "execution_count": 4,
   "metadata": {},
   "outputs": [],
   "source": [
    "# Rellenar los valores nulos en las columnas \"revenue\" y \"budget\" con 0\n",
    "df['revenue'] = df['revenue'].fillna(0)\n",
    "df['budget'] = df['budget'].fillna(0)\n",
    "\n",
    "# Mostrar el resultado\n",
    "#df.head(2)\n",
    "#df[df['revenue'] == 0].head(2)\n",
    "#df[df['budget'] == str(0)].head(2)"
   ]
  },
  {
   "attachments": {},
   "cell_type": "markdown",
   "metadata": {},
   "source": [
    "### - Los valores nulos: 'release_date' deben eliminarse."
   ]
  },
  {
   "cell_type": "code",
   "execution_count": 5,
   "metadata": {},
   "outputs": [
    {
     "data": {
      "text/plain": [
       "(45379, 24)"
      ]
     },
     "execution_count": 5,
     "metadata": {},
     "output_type": "execute_result"
    }
   ],
   "source": [
    "# Eliminar los valores nulos del campo \"release_date\"\n",
    "df = df.dropna(subset=['release_date'])\n",
    "df.shape"
   ]
  },
  {
   "attachments": {},
   "cell_type": "markdown",
   "metadata": {},
   "source": [
    "### - Formato fechas: AAAA-mm-dd y crear la columna 'release_year'"
   ]
  },
  {
   "cell_type": "code",
   "execution_count": 6,
   "metadata": {},
   "outputs": [
    {
     "data": {
      "text/plain": [
       "0    1995-10-30\n",
       "1    1995-12-15\n",
       "Name: release_date, dtype: object"
      ]
     },
     "execution_count": 6,
     "metadata": {},
     "output_type": "execute_result"
    }
   ],
   "source": [
    "# Convertir la columna \"release_date\" al tipo de dato de fecha y formatearla\n",
    "df['release_date'] = pd.to_datetime(df['release_date'], errors='coerce').dt.strftime('%Y-%m-%d')\n",
    "\n",
    "# Eliminar las filas con valores nulos en la columna \"release_date\"\n",
    "#df = df.dropna(subset=['release_date'])\n",
    "\n",
    "# Crear la columna \"release_year\" extrayendo el año de la fecha de estreno\n",
    "df['release_year'] = pd.to_datetime(df['release_date']).dt.year\n",
    "\n",
    "# Mostrar el resultado\n",
    "df['release_date'].head(2)"
   ]
  },
  {
   "attachments": {},
   "cell_type": "markdown",
   "metadata": {},
   "source": [
    "### - Crear la columna: 'return'"
   ]
  },
  {
   "cell_type": "code",
   "execution_count": 7,
   "metadata": {},
   "outputs": [
    {
     "data": {
      "text/plain": [
       "0    12.451801\n",
       "1     4.043035\n",
       "Name: return, dtype: float64"
      ]
     },
     "execution_count": 7,
     "metadata": {},
     "output_type": "execute_result"
    }
   ],
   "source": [
    "# Convertir los valores de la columna \"budget\" a tipo numérico\n",
    "df['budget'] = pd.to_numeric(df['budget'], errors='coerce')\n",
    "\n",
    "# Crear la columna \"return\" con el cálculo del retorno de inversión\n",
    "df['return'] = df['revenue'] / df['budget']\n",
    "df['return'] = df['return'].fillna(0)\n",
    "\n",
    "# Mostrar el resultado\n",
    "df['return'].head(2)"
   ]
  },
  {
   "attachments": {},
   "cell_type": "markdown",
   "metadata": {},
   "source": [
    "### - Eliminar las columnas que no serán utilizadas"
   ]
  },
  {
   "cell_type": "code",
   "execution_count": 8,
   "metadata": {},
   "outputs": [
    {
     "data": {
      "text/html": [
       "<div>\n",
       "<style scoped>\n",
       "    .dataframe tbody tr th:only-of-type {\n",
       "        vertical-align: middle;\n",
       "    }\n",
       "\n",
       "    .dataframe tbody tr th {\n",
       "        vertical-align: top;\n",
       "    }\n",
       "\n",
       "    .dataframe thead th {\n",
       "        text-align: right;\n",
       "    }\n",
       "</style>\n",
       "<table border=\"1\" class=\"dataframe\">\n",
       "  <thead>\n",
       "    <tr style=\"text-align: right;\">\n",
       "      <th></th>\n",
       "      <th>belongs_to_collection</th>\n",
       "      <th>budget</th>\n",
       "      <th>genres</th>\n",
       "      <th>id</th>\n",
       "      <th>original_language</th>\n",
       "      <th>overview</th>\n",
       "      <th>popularity</th>\n",
       "      <th>production_companies</th>\n",
       "      <th>production_countries</th>\n",
       "      <th>release_date</th>\n",
       "      <th>revenue</th>\n",
       "      <th>runtime</th>\n",
       "      <th>spoken_languages</th>\n",
       "      <th>status</th>\n",
       "      <th>tagline</th>\n",
       "      <th>title</th>\n",
       "      <th>vote_average</th>\n",
       "      <th>release_year</th>\n",
       "      <th>return</th>\n",
       "    </tr>\n",
       "  </thead>\n",
       "  <tbody>\n",
       "    <tr>\n",
       "      <th>0</th>\n",
       "      <td>[Toy Story Collection]</td>\n",
       "      <td>30000000.0</td>\n",
       "      <td>[Animation, Comedy, Family]</td>\n",
       "      <td>862</td>\n",
       "      <td>en</td>\n",
       "      <td>Led by Woody, Andy's toys live happily in his ...</td>\n",
       "      <td>21.946943</td>\n",
       "      <td>[Pixar Animation Studios]</td>\n",
       "      <td>[United States of America]</td>\n",
       "      <td>1995-10-30</td>\n",
       "      <td>373554033.0</td>\n",
       "      <td>81.0</td>\n",
       "      <td>[English]</td>\n",
       "      <td>Released</td>\n",
       "      <td>NaN</td>\n",
       "      <td>Toy Story</td>\n",
       "      <td>7.7</td>\n",
       "      <td>1995.0</td>\n",
       "      <td>12.451801</td>\n",
       "    </tr>\n",
       "    <tr>\n",
       "      <th>1</th>\n",
       "      <td>[]</td>\n",
       "      <td>65000000.0</td>\n",
       "      <td>[Adventure, Fantasy, Family]</td>\n",
       "      <td>8844</td>\n",
       "      <td>en</td>\n",
       "      <td>When siblings Judy and Peter discover an encha...</td>\n",
       "      <td>17.015539</td>\n",
       "      <td>[TriStar Pictures, Teitler Film, Interscope Co...</td>\n",
       "      <td>[United States of America]</td>\n",
       "      <td>1995-12-15</td>\n",
       "      <td>262797249.0</td>\n",
       "      <td>104.0</td>\n",
       "      <td>[English, Français]</td>\n",
       "      <td>Released</td>\n",
       "      <td>Roll the dice and unleash the excitement!</td>\n",
       "      <td>Jumanji</td>\n",
       "      <td>6.9</td>\n",
       "      <td>1995.0</td>\n",
       "      <td>4.043035</td>\n",
       "    </tr>\n",
       "  </tbody>\n",
       "</table>\n",
       "</div>"
      ],
      "text/plain": [
       "    belongs_to_collection      budget                        genres    id   \n",
       "0  [Toy Story Collection]  30000000.0   [Animation, Comedy, Family]   862  \\\n",
       "1                      []  65000000.0  [Adventure, Fantasy, Family]  8844   \n",
       "\n",
       "  original_language                                           overview   \n",
       "0                en  Led by Woody, Andy's toys live happily in his ...  \\\n",
       "1                en  When siblings Judy and Peter discover an encha...   \n",
       "\n",
       "  popularity                               production_companies   \n",
       "0  21.946943                          [Pixar Animation Studios]  \\\n",
       "1  17.015539  [TriStar Pictures, Teitler Film, Interscope Co...   \n",
       "\n",
       "         production_countries release_date      revenue  runtime   \n",
       "0  [United States of America]   1995-10-30  373554033.0     81.0  \\\n",
       "1  [United States of America]   1995-12-15  262797249.0    104.0   \n",
       "\n",
       "      spoken_languages    status                                    tagline   \n",
       "0            [English]  Released                                        NaN  \\\n",
       "1  [English, Français]  Released  Roll the dice and unleash the excitement!   \n",
       "\n",
       "       title  vote_average  release_year     return  \n",
       "0  Toy Story           7.7        1995.0  12.451801  \n",
       "1    Jumanji           6.9        1995.0   4.043035  "
      ]
     },
     "execution_count": 8,
     "metadata": {},
     "output_type": "execute_result"
    }
   ],
   "source": [
    "# Lista de columnas a eliminar\n",
    "columnas_eliminar = ['video', 'imdb_id', 'adult', 'original_title', 'vote_count', 'poster_path', 'homepage']\n",
    "\n",
    "# Eliminar las columnas\n",
    "df = df.drop(columnas_eliminar, axis=1)\n",
    "\n",
    "# Mostrar el resultado\n",
    "df.head(2)"
   ]
  },
  {
   "cell_type": "code",
   "execution_count": 9,
   "metadata": {},
   "outputs": [
    {
     "name": "stdout",
     "output_type": "stream",
     "text": [
      "<class 'pandas.core.frame.DataFrame'>\n",
      "Index: 45379 entries, 0 to 45465\n",
      "Data columns (total 19 columns):\n",
      " #   Column                 Non-Null Count  Dtype  \n",
      "---  ------                 --------------  -----  \n",
      " 0   belongs_to_collection  45379 non-null  object \n",
      " 1   budget                 45376 non-null  float64\n",
      " 2   genres                 45379 non-null  object \n",
      " 3   id                     45379 non-null  object \n",
      " 4   original_language      45368 non-null  object \n",
      " 5   overview               44438 non-null  object \n",
      " 6   popularity             45377 non-null  object \n",
      " 7   production_companies   45379 non-null  object \n",
      " 8   production_countries   45379 non-null  object \n",
      " 9   release_date           45376 non-null  object \n",
      " 10  revenue                45379 non-null  float64\n",
      " 11  runtime                45130 non-null  float64\n",
      " 12  spoken_languages       45379 non-null  object \n",
      " 13  status                 45296 non-null  object \n",
      " 14  tagline                20398 non-null  object \n",
      " 15  title                  45376 non-null  object \n",
      " 16  vote_average           45376 non-null  float64\n",
      " 17  release_year           45376 non-null  float64\n",
      " 18  return                 45379 non-null  float64\n",
      "dtypes: float64(6), object(13)\n",
      "memory usage: 6.9+ MB\n"
     ]
    }
   ],
   "source": [
    "df.info()"
   ]
  },
  {
   "cell_type": "code",
   "execution_count": 10,
   "metadata": {},
   "outputs": [],
   "source": [
    "df.to_csv('df_modificada.csv', index=False)"
   ]
  }
 ],
 "metadata": {
  "kernelspec": {
   "display_name": "Python 3",
   "language": "python",
   "name": "python3"
  },
  "language_info": {
   "codemirror_mode": {
    "name": "ipython",
    "version": 3
   },
   "file_extension": ".py",
   "mimetype": "text/x-python",
   "name": "python",
   "nbconvert_exporter": "python",
   "pygments_lexer": "ipython3",
   "version": "3.11.3"
  },
  "orig_nbformat": 4
 },
 "nbformat": 4,
 "nbformat_minor": 2
}
