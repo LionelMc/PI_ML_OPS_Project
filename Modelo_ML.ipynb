{
 "cells": [
  {
   "cell_type": "code",
   "execution_count": null,
   "metadata": {},
   "outputs": [],
   "source": [
    "# SISTEMA DE RECOMENDACION\n",
    "import pandas as pd\n",
    "from sklearn.preprocessing import MultiLabelBinarizer\n",
    "from sklearn.neighbors import NearestNeighbors\n",
    "from sklearn.impute import SimpleImputer\n",
    "import numpy as np\n",
    "\n",
    "# Cargar los datos\n",
    "data = pd.read_csv('df_modelo.csv')\n",
    "\n",
    "# Seleccionar un subconjunto aleatorio de los datos\n",
    "np.random.seed(42)\n",
    "idx = np.random.choice(data.index, size=15000, replace=False)\n",
    "data = data.loc[idx]\n",
    "\n",
    "# Preprocesar los datos\n",
    "mlb = MultiLabelBinarizer()\n",
    "genres = pd.DataFrame(mlb.fit_transform(data['genres']), columns=mlb.classes_)\n",
    "languages = pd.DataFrame(mlb.fit_transform(data['spoken_languages']), columns=mlb.classes_)\n",
    "X = pd.concat([genres, languages, data['vote_average']], axis=1)\n",
    "\n",
    "# Imputar los valores NaN en la matriz X\n",
    "imputer = SimpleImputer(strategy='mean')\n",
    "X = imputer.fit_transform(X)\n",
    "\n",
    "# Entrenar el modelo\n",
    "model = NearestNeighbors(n_neighbors=6, algorithm='ball_tree')\n",
    "model.fit(X)\n",
    "\n",
    "def recomendacion(titulo: str):\n",
    "    \"\"\"\n",
    "    Ingresar el nombre de pelicula y te recomienda las similares en una lista de 5 valores.\\n\n",
    "    Ejemplo  ===>  pelicula: Sabrina\n",
    "    \"\"\"\n",
    "    # Encontrar el índice de la película\n",
    "    idx = data[data['title'] == titulo].index[0]\n",
    "\n",
    "    # Encontrar las películas más similares\n",
    "    distances, indices = model.kneighbors(X[idx].reshape(1, -1))\n",
    "\n",
    "    # Crear la lista de recomendaciones\n",
    "    recomendaciones = []\n",
    "    for i in range(1, len(distances.flatten())):\n",
    "        recomendaciones.append(data.iloc[indices.flatten()[i]]['title'])\n",
    "\n",
    "    return {'Lista recomendada': recomendaciones}\n",
    "\n",
    "#recomendacion('Sabrina')"
   ]
  }
 ],
 "metadata": {
  "language_info": {
   "name": "python"
  },
  "orig_nbformat": 4
 },
 "nbformat": 4,
 "nbformat_minor": 2
}
